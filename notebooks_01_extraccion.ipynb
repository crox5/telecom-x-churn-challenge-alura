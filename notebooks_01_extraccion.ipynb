{
  "nbformat": 4,
  "nbformat_minor": 0,
  "metadata": {
    "colab": {
      "provenance": [],
      "authorship_tag": "ABX9TyOBXRVEgv2tBqA2jp+KXCPF",
      "include_colab_link": true
    },
    "kernelspec": {
      "name": "python3",
      "display_name": "Python 3"
    },
    "language_info": {
      "name": "python"
    }
  },
  "cells": [
    {
      "cell_type": "markdown",
      "metadata": {
        "id": "view-in-github",
        "colab_type": "text"
      },
      "source": [
        "<a href=\"https://colab.research.google.com/github/crox5/telecom-x-churn-challenge-alura/blob/main/notebooks_01_extraccion.ipynb\" target=\"_parent\"><img src=\"https://colab.research.google.com/assets/colab-badge.svg\" alt=\"Open In Colab\"/></a>"
      ]
    },
    {
      "cell_type": "code",
      "execution_count": null,
      "metadata": {
        "id": "H7P0tkYgRht_"
      },
      "outputs": [],
      "source": [
        "# Ejemplo: primer bloque del notebook de extracción\n",
        "import requests, pandas as pd\n",
        "\n",
        "url = \"https://raw.githubusercontent.com/ingridcristh/challenge2-data-science-LATAM/main/TelecomX_Data.json\"\n",
        "data = requests.get(url).json()\n",
        "df = pd.json_normalize(data)\n",
        "df.head()\n"
      ]
    }
  ]
}